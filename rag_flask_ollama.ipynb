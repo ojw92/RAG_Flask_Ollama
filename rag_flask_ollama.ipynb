{
 "cells": [
  {
   "cell_type": "markdown",
   "id": "4c59227f",
   "metadata": {},
   "source": [
    "# RAG_Flask_Ollama"
   ]
  },
  {
   "cell_type": "code",
   "execution_count": null,
   "id": "338667b3",
   "metadata": {},
   "outputs": [],
   "source": [
    "#Import the necessary libraries\n",
    "\n",
    "import numpy as np\n",
    "import sys\n",
    "import langchain\n",
    "import langchain_community\n",
    "import langchain_core\n",
    "import langchain_openai\n",
    "import sentence_transformers\n",
    "import pypdf\n",
    "import dotenv\n",
    "import importlib.metadata\n",
    "\n",
    "import warnings\n",
    "warnings.filterwarnings(\"ignore\")\n",
    "\n",
    "%load_ext autoreload\n",
    "%autoreload 2\n",
    "%reload_ext autoreload\n",
    "\n",
    "print('Version information')\n",
    "\n",
    "print('python: {}'.format(sys.version))\n",
    "print('numpy: {}'.format(np.__version__))\n",
    "print('langchain: {}'.format(langchain.__version__))\n",
    "print('langchain_community: {}'.format(langchain_community.__version__))\n",
    "print('sentence_transformers: {}'.format(sentence_transformers.__version__))\n",
    "print('pypdf: {}'.format(pypdf.__version__))\n",
    "print('langchain_core: {}'.format(langchain_core.__version__))\n",
    "print('langchain_openai: {}'.format(importlib.metadata.version(\"langchain-openai\")))\n",
    "print('python-dotenv: {}'.format(importlib.metadata.version(\"python-dotenv\")))\n",
    "print('ollama: {}'.format(importlib.metadata.version(\"ollama\")))"
   ]
  },
  {
   "cell_type": "code",
   "execution_count": null,
   "id": "2c0ab343",
   "metadata": {},
   "outputs": [],
   "source": []
  }
 ],
 "metadata": {
  "language_info": {
   "name": "python"
  }
 },
 "nbformat": 4,
 "nbformat_minor": 5
}
